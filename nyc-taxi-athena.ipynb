{
 "cells": [
  {
   "cell_type": "markdown",
   "metadata": {},
   "source": [
    "# Athena SQL Model\n",
    "\n",
    "This example will create an athena table for [Jan 2017 taxi dataset](https://aws.amazon.com/blogs/big-data/build-a-data-lake-foundation-with-aws-glue-and-amazon-s3/).  You can improve performance if you convert into a parquet format.\n",
    "\n",
    "Configure your notebook role with permissions to [query data from athena](https://aws.amazon.com/blogs/machine-learning/run-sql-queries-from-your-sagemaker-notebooks-using-amazon-athena/) and access the s3 staging bucket."
   ]
  },
  {
   "cell_type": "markdown",
   "metadata": {},
   "source": [
    "## Install libraries\n",
    "\n",
    "Install the [Athena library](https://pypi.org/project/PyAthena/) for python and [tqdm](https://tqdm.github.io/)"
   ]
  },
  {
   "cell_type": "code",
   "execution_count": 1,
   "metadata": {},
   "outputs": [
    {
     "name": "stdout",
     "output_type": "stream",
     "text": [
      "Collecting pip\n",
      "  Downloading pip-20.2.3-py2.py3-none-any.whl (1.5 MB)\n",
      "\u001b[K     |████████████████████████████████| 1.5 MB 11.0 MB/s eta 0:00:01\n",
      "\u001b[?25hInstalling collected packages: pip\n",
      "  Attempting uninstall: pip\n",
      "    Found existing installation: pip 20.0.2\n",
      "    Uninstalling pip-20.0.2:\n",
      "      Successfully uninstalled pip-20.0.2\n",
      "Successfully installed pip-20.2.3\n",
      "Requirement already up-to-date: sagemaker in /home/ec2-user/anaconda3/envs/python3/lib/python3.6/site-packages (2.13.0)\n",
      "Requirement already satisfied, skipping upgrade: google-pasta in /home/ec2-user/anaconda3/envs/python3/lib/python3.6/site-packages (from sagemaker) (0.2.0)\n",
      "Requirement already satisfied, skipping upgrade: protobuf3-to-dict>=0.1.5 in /home/ec2-user/anaconda3/envs/python3/lib/python3.6/site-packages (from sagemaker) (0.1.5)\n",
      "Requirement already satisfied, skipping upgrade: numpy>=1.9.0 in /home/ec2-user/anaconda3/envs/python3/lib/python3.6/site-packages (from sagemaker) (1.18.1)\n",
      "Requirement already satisfied, skipping upgrade: smdebug-rulesconfig==0.1.5 in /home/ec2-user/anaconda3/envs/python3/lib/python3.6/site-packages (from sagemaker) (0.1.5)\n",
      "Requirement already satisfied, skipping upgrade: packaging>=20.0 in /home/ec2-user/anaconda3/envs/python3/lib/python3.6/site-packages (from sagemaker) (20.3)\n",
      "Requirement already satisfied, skipping upgrade: importlib-metadata>=1.4.0 in /home/ec2-user/anaconda3/envs/python3/lib/python3.6/site-packages (from sagemaker) (1.5.0)\n",
      "Requirement already satisfied, skipping upgrade: boto3>=1.14.12 in /home/ec2-user/anaconda3/envs/python3/lib/python3.6/site-packages (from sagemaker) (1.14.60)\n",
      "Requirement already satisfied, skipping upgrade: protobuf>=3.1 in /home/ec2-user/anaconda3/envs/python3/lib/python3.6/site-packages (from sagemaker) (3.13.0)\n",
      "Requirement already satisfied, skipping upgrade: six in /home/ec2-user/anaconda3/envs/python3/lib/python3.6/site-packages (from google-pasta->sagemaker) (1.14.0)\n",
      "Requirement already satisfied, skipping upgrade: pyparsing>=2.0.2 in /home/ec2-user/anaconda3/envs/python3/lib/python3.6/site-packages (from packaging>=20.0->sagemaker) (2.4.6)\n",
      "Requirement already satisfied, skipping upgrade: zipp>=0.5 in /home/ec2-user/anaconda3/envs/python3/lib/python3.6/site-packages (from importlib-metadata>=1.4.0->sagemaker) (2.2.0)\n",
      "Requirement already satisfied, skipping upgrade: jmespath<1.0.0,>=0.7.1 in /home/ec2-user/anaconda3/envs/python3/lib/python3.6/site-packages (from boto3>=1.14.12->sagemaker) (0.9.4)\n",
      "Requirement already satisfied, skipping upgrade: s3transfer<0.4.0,>=0.3.0 in /home/ec2-user/anaconda3/envs/python3/lib/python3.6/site-packages (from boto3>=1.14.12->sagemaker) (0.3.3)\n",
      "Requirement already satisfied, skipping upgrade: botocore<1.18.0,>=1.17.60 in /home/ec2-user/anaconda3/envs/python3/lib/python3.6/site-packages (from boto3>=1.14.12->sagemaker) (1.17.60)\n",
      "Requirement already satisfied, skipping upgrade: setuptools in /home/ec2-user/anaconda3/envs/python3/lib/python3.6/site-packages (from protobuf>=3.1->sagemaker) (46.1.3.post20200330)\n",
      "Requirement already satisfied, skipping upgrade: python-dateutil<3.0.0,>=2.1 in /home/ec2-user/anaconda3/envs/python3/lib/python3.6/site-packages (from botocore<1.18.0,>=1.17.60->boto3>=1.14.12->sagemaker) (2.8.1)\n",
      "Requirement already satisfied, skipping upgrade: urllib3<1.26,>=1.20; python_version != \"3.4\" in /home/ec2-user/anaconda3/envs/python3/lib/python3.6/site-packages (from botocore<1.18.0,>=1.17.60->boto3>=1.14.12->sagemaker) (1.25.8)\n",
      "Requirement already satisfied, skipping upgrade: docutils<0.16,>=0.10 in /home/ec2-user/anaconda3/envs/python3/lib/python3.6/site-packages (from botocore<1.18.0,>=1.17.60->boto3>=1.14.12->sagemaker) (0.15.2)\n"
     ]
    }
   ],
   "source": [
    "import sys\n",
    "!{sys.executable} -m pip install -U pip\n",
    "!{sys.executable} -m pip install -q PyAthena\n",
    "!{sys.executable} -m pip install -q tqdm\n",
    "!{sys.executable} -m pip install -U sagemaker"
   ]
  },
  {
   "cell_type": "markdown",
   "metadata": {},
   "source": [
    "### Restart Kernel\n",
    "\n",
    "Now that you have upgraded SageMaker you need to restart the kernel by clicking menu: `Kernel -> Restart & Clear Output`.\n",
    "\n",
    "Once restarted, run the next cell to check you have version starting with `2.x`"
   ]
  },
  {
   "cell_type": "code",
   "execution_count": 2,
   "metadata": {},
   "outputs": [
    {
     "name": "stdout",
     "output_type": "stream",
     "text": [
      "Name: sagemaker\r\n",
      "Version: 2.13.0\r\n",
      "Summary: Open source library for training and deploying models on Amazon SageMaker.\r\n",
      "Home-page: https://github.com/aws/sagemaker-python-sdk/\r\n",
      "Author: Amazon Web Services\r\n",
      "Author-email: None\r\n",
      "License: Apache License 2.0\r\n",
      "Location: /home/ec2-user/anaconda3/envs/python3/lib/python3.6/site-packages\r\n",
      "Requires: numpy, protobuf3-to-dict, google-pasta, importlib-metadata, boto3, packaging, smdebug-rulesconfig, protobuf\r\n",
      "Required-by: \r\n"
     ]
    }
   ],
   "source": [
    "import sys\n",
    "!{sys.executable} -m pip show sagemaker"
   ]
  },
  {
   "cell_type": "markdown",
   "metadata": {},
   "source": [
    "## Import Data\n",
    "\n",
    "Create an anthena database and external table for the imported nyc bit dataset."
   ]
  },
  {
   "cell_type": "code",
   "execution_count": 3,
   "metadata": {},
   "outputs": [
    {
     "name": "stdout",
     "output_type": "stream",
     "text": [
      "s3 staging dir: s3://sagemaker-us-east-1-769203131176/athena\n",
      "athena table: nyc_taxi.taxi_csv\n"
     ]
    }
   ],
   "source": [
    "import boto3\n",
    "import sagemaker\n",
    "\n",
    "# Initialize the boto session in us-east-1 region\n",
    "boto_session = boto3.session.Session(region_name='us-east-1')\n",
    "region = boto_session.region_name\n",
    "bucket = sagemaker.session.Session(boto_session).default_bucket()\n",
    "\n",
    "# Get the athena staging dir andtable\n",
    "s3_staging_dir = 's3://{}/athena'.format(bucket)\n",
    "db_name = 'nyc_taxi'\n",
    "table_name = '{}.taxi_csv'.format(db_name)\n",
    "\n",
    "print('s3 staging dir: {}'.format(s3_staging_dir))\n",
    "print('athena table: {}'.format(table_name))"
   ]
  },
  {
   "cell_type": "markdown",
   "metadata": {},
   "source": [
    "Make the bucket if it doesn't exist"
   ]
  },
  {
   "cell_type": "code",
   "execution_count": 4,
   "metadata": {},
   "outputs": [
    {
     "name": "stdout",
     "output_type": "stream",
     "text": [
      "make_bucket: sagemaker-us-east-1-769203131176\r\n"
     ]
    }
   ],
   "source": [
    "!aws s3 mb s3://$bucket --region $region"
   ]
  },
  {
   "cell_type": "markdown",
   "metadata": {},
   "source": [
    "Query the nyc taxi dataset using [PandasCursor](https://pypi.org/project/PyAthena/#pandascursor) for improved performance"
   ]
  },
  {
   "cell_type": "code",
   "execution_count": 5,
   "metadata": {},
   "outputs": [],
   "source": [
    "from pyathena import connect\n",
    "from pyathena.pandas_cursor import PandasCursor\n",
    "import pandas as pd\n",
    "\n",
    "cursor = connect(s3_staging_dir=s3_staging_dir,\n",
    "                 region_name=region,\n",
    "                 cursor_class=PandasCursor).cursor()"
   ]
  },
  {
   "cell_type": "code",
   "execution_count": 6,
   "metadata": {},
   "outputs": [
    {
     "name": "stdout",
     "output_type": "stream",
     "text": [
      "Status: SUCCEEDED, Run time: 0.25s\n"
     ]
    }
   ],
   "source": [
    "sql_ddl_create_table = 'CREATE DATABASE IF NOT EXISTS {};'.format(db_name)\n",
    "\n",
    "cursor.execute(sql_ddl_create_table)\n",
    "print('Status: {}, Run time: {:.2f}s'.format(cursor.state, \n",
    "    cursor.execution_time_in_millis/1000.0))"
   ]
  },
  {
   "cell_type": "code",
   "execution_count": 7,
   "metadata": {},
   "outputs": [
    {
     "name": "stdout",
     "output_type": "stream",
     "text": [
      "Status: SUCCEEDED, Run time: 0.43s\n"
     ]
    }
   ],
   "source": [
    "sql_create_table = '''\n",
    "CREATE EXTERNAL TABLE IF NOT EXISTS `{}` (\n",
    "    `vendorid` bigint, \n",
    "    `lpep_pickup_datetime` string, \n",
    "    `lpep_dropoff_datetime` string, \n",
    "    `store_and_fwd_flag` string, \n",
    "    `ratecodeid` bigint, \n",
    "    `pulocationid` bigint, \n",
    "    `dolocationid` bigint, \n",
    "    `passenger_count` bigint, \n",
    "    `trip_distance` double, \n",
    "    `fare_amount` double, \n",
    "    `extra` double, \n",
    "    `mta_tax` double, \n",
    "    `tip_amount` double, \n",
    "    `tolls_amount` double, \n",
    "    `ehail_fee` string, \n",
    "    `improvement_surcharge` double, \n",
    "    `total_amount` double, \n",
    "    `payment_type` bigint, \n",
    "    `trip_type` bigint)\n",
    "ROW FORMAT DELIMITED \n",
    "    FIELDS TERMINATED BY ',' \n",
    "STORED AS INPUTFORMAT \n",
    "    'org.apache.hadoop.mapred.TextInputFormat' \n",
    "OUTPUTFORMAT \n",
    "    'org.apache.hadoop.hive.ql.io.HiveIgnoreKeyTextOutputFormat'\n",
    "LOCATION\n",
    "    's3://aws-bigdata-blog/artifacts/glue-data-lake/data/'\n",
    "TBLPROPERTIES (\n",
    "    'columnsOrdered'='true', \n",
    "    'compressionType'='none', \n",
    "    'skip.header.line.count'='1')\n",
    "'''.format(table_name)\n",
    "\n",
    "cursor.execute(sql_create_table)\n",
    "print('Status: {}, Run time: {:.2f}s'.format(cursor.state, \n",
    "    cursor.execution_time_in_millis/1000.0))"
   ]
  },
  {
   "cell_type": "code",
   "execution_count": 8,
   "metadata": {},
   "outputs": [
    {
     "name": "stdout",
     "output_type": "stream",
     "text": [
      "Querying... \n",
      "SELECT \n",
      "    total_amount, fare_amount, lpep_pickup_datetime, lpep_dropoff_datetime, trip_distance \n",
      "FROM nyc_taxi.taxi_csv WHERE total_amount is not null;\n",
      "\n",
      "Status: SUCCEEDED, Run time: 5.18s, Data scanned: 91.34MB, Records: 1,070,261\n"
     ]
    },
    {
     "data": {
      "text/html": [
       "<div>\n",
       "<style scoped>\n",
       "    .dataframe tbody tr th:only-of-type {\n",
       "        vertical-align: middle;\n",
       "    }\n",
       "\n",
       "    .dataframe tbody tr th {\n",
       "        vertical-align: top;\n",
       "    }\n",
       "\n",
       "    .dataframe thead th {\n",
       "        text-align: right;\n",
       "    }\n",
       "</style>\n",
       "<table border=\"1\" class=\"dataframe\">\n",
       "  <thead>\n",
       "    <tr style=\"text-align: right;\">\n",
       "      <th></th>\n",
       "      <th>total_amount</th>\n",
       "      <th>fare_amount</th>\n",
       "      <th>lpep_pickup_datetime</th>\n",
       "      <th>lpep_dropoff_datetime</th>\n",
       "      <th>trip_distance</th>\n",
       "    </tr>\n",
       "  </thead>\n",
       "  <tbody>\n",
       "    <tr>\n",
       "      <th>0</th>\n",
       "      <td>20.30</td>\n",
       "      <td>16.5</td>\n",
       "      <td>2017-01-22 21:49:27</td>\n",
       "      <td>2017-01-22 22:07:02</td>\n",
       "      <td>4.74</td>\n",
       "    </tr>\n",
       "    <tr>\n",
       "      <th>1</th>\n",
       "      <td>26.16</td>\n",
       "      <td>20.5</td>\n",
       "      <td>2017-01-22 21:52:32</td>\n",
       "      <td>2017-01-22 22:15:40</td>\n",
       "      <td>5.56</td>\n",
       "    </tr>\n",
       "    <tr>\n",
       "      <th>2</th>\n",
       "      <td>10.56</td>\n",
       "      <td>7.5</td>\n",
       "      <td>2017-01-22 21:07:23</td>\n",
       "      <td>2017-01-22 21:14:19</td>\n",
       "      <td>1.61</td>\n",
       "    </tr>\n",
       "    <tr>\n",
       "      <th>3</th>\n",
       "      <td>12.96</td>\n",
       "      <td>9.5</td>\n",
       "      <td>2017-01-22 21:37:01</td>\n",
       "      <td>2017-01-22 21:46:48</td>\n",
       "      <td>2.28</td>\n",
       "    </tr>\n",
       "    <tr>\n",
       "      <th>4</th>\n",
       "      <td>11.16</td>\n",
       "      <td>8.0</td>\n",
       "      <td>2017-01-22 21:55:06</td>\n",
       "      <td>2017-01-22 22:03:13</td>\n",
       "      <td>1.71</td>\n",
       "    </tr>\n",
       "  </tbody>\n",
       "</table>\n",
       "</div>"
      ],
      "text/plain": [
       "   total_amount  fare_amount lpep_pickup_datetime lpep_dropoff_datetime  \\\n",
       "0         20.30         16.5  2017-01-22 21:49:27   2017-01-22 22:07:02   \n",
       "1         26.16         20.5  2017-01-22 21:52:32   2017-01-22 22:15:40   \n",
       "2         10.56          7.5  2017-01-22 21:07:23   2017-01-22 21:14:19   \n",
       "3         12.96          9.5  2017-01-22 21:37:01   2017-01-22 21:46:48   \n",
       "4         11.16          8.0  2017-01-22 21:55:06   2017-01-22 22:03:13   \n",
       "\n",
       "   trip_distance  \n",
       "0           4.74  \n",
       "1           5.56  \n",
       "2           1.61  \n",
       "3           2.28  \n",
       "4           1.71  "
      ]
     },
     "execution_count": 8,
     "metadata": {},
     "output_type": "execute_result"
    }
   ],
   "source": [
    "data_sql = '''\n",
    "SELECT \n",
    "    total_amount, fare_amount, lpep_pickup_datetime, lpep_dropoff_datetime, trip_distance \n",
    "FROM {} WHERE total_amount is not null;\n",
    "'''.format(table_name)\n",
    "print('Querying...', data_sql)\n",
    "\n",
    "data_df = cursor.execute(data_sql).as_pandas()\n",
    "print('Status: {}, Run time: {:.2f}s, Data scanned: {:.2f}MB, Records: {:,}'.format(cursor.state, \n",
    "    cursor.execution_time_in_millis/1000.0, cursor.data_scanned_in_bytes/1024.0/1024.0, data_df.shape[0]))\n",
    "\n",
    "data_df.head()"
   ]
  },
  {
   "cell_type": "markdown",
   "metadata": {},
   "source": [
    "Performance some simple feature engineering"
   ]
  },
  {
   "cell_type": "code",
   "execution_count": 9,
   "metadata": {},
   "outputs": [],
   "source": [
    "# Add some date features\n",
    "data_df['lpep_pickup_datetime'] = data_df['lpep_pickup_datetime'].astype('datetime64[ns]')\n",
    "data_df['lpep_dropoff_datetime'] = data_df['lpep_dropoff_datetime'].astype('datetime64[ns]')\n",
    "data_df['duration_minutes'] = (data_df['lpep_dropoff_datetime'] - data_df['lpep_pickup_datetime']).dt.seconds/60\n",
    "data_df['hour_of_day'] = data_df['lpep_pickup_datetime'].dt.hour\n",
    "data_df['day_of_week'] = data_df['lpep_pickup_datetime'].dt.dayofweek\n",
    "data_df['week_of_year'] = data_df['lpep_pickup_datetime'].dt.weekofyear\n",
    "data_df['month_of_year'] = data_df['lpep_pickup_datetime'].dt.month"
   ]
  },
  {
   "cell_type": "code",
   "execution_count": 10,
   "metadata": {},
   "outputs": [
    {
     "name": "stdout",
     "output_type": "stream",
     "text": [
      "(1046381, 10)\n"
     ]
    },
    {
     "data": {
      "text/html": [
       "<div>\n",
       "<style scoped>\n",
       "    .dataframe tbody tr th:only-of-type {\n",
       "        vertical-align: middle;\n",
       "    }\n",
       "\n",
       "    .dataframe tbody tr th {\n",
       "        vertical-align: top;\n",
       "    }\n",
       "\n",
       "    .dataframe thead th {\n",
       "        text-align: right;\n",
       "    }\n",
       "</style>\n",
       "<table border=\"1\" class=\"dataframe\">\n",
       "  <thead>\n",
       "    <tr style=\"text-align: right;\">\n",
       "      <th></th>\n",
       "      <th>total_amount</th>\n",
       "      <th>fare_amount</th>\n",
       "      <th>lpep_pickup_datetime</th>\n",
       "      <th>lpep_dropoff_datetime</th>\n",
       "      <th>trip_distance</th>\n",
       "      <th>duration_minutes</th>\n",
       "      <th>hour_of_day</th>\n",
       "      <th>day_of_week</th>\n",
       "      <th>week_of_year</th>\n",
       "      <th>month_of_year</th>\n",
       "    </tr>\n",
       "  </thead>\n",
       "  <tbody>\n",
       "    <tr>\n",
       "      <th>0</th>\n",
       "      <td>20.30</td>\n",
       "      <td>16.5</td>\n",
       "      <td>2017-01-22 21:49:27</td>\n",
       "      <td>2017-01-22 22:07:02</td>\n",
       "      <td>4.74</td>\n",
       "      <td>17.583333</td>\n",
       "      <td>21</td>\n",
       "      <td>6</td>\n",
       "      <td>3</td>\n",
       "      <td>1</td>\n",
       "    </tr>\n",
       "    <tr>\n",
       "      <th>1</th>\n",
       "      <td>26.16</td>\n",
       "      <td>20.5</td>\n",
       "      <td>2017-01-22 21:52:32</td>\n",
       "      <td>2017-01-22 22:15:40</td>\n",
       "      <td>5.56</td>\n",
       "      <td>23.133333</td>\n",
       "      <td>21</td>\n",
       "      <td>6</td>\n",
       "      <td>3</td>\n",
       "      <td>1</td>\n",
       "    </tr>\n",
       "    <tr>\n",
       "      <th>2</th>\n",
       "      <td>10.56</td>\n",
       "      <td>7.5</td>\n",
       "      <td>2017-01-22 21:07:23</td>\n",
       "      <td>2017-01-22 21:14:19</td>\n",
       "      <td>1.61</td>\n",
       "      <td>6.933333</td>\n",
       "      <td>21</td>\n",
       "      <td>6</td>\n",
       "      <td>3</td>\n",
       "      <td>1</td>\n",
       "    </tr>\n",
       "    <tr>\n",
       "      <th>3</th>\n",
       "      <td>12.96</td>\n",
       "      <td>9.5</td>\n",
       "      <td>2017-01-22 21:37:01</td>\n",
       "      <td>2017-01-22 21:46:48</td>\n",
       "      <td>2.28</td>\n",
       "      <td>9.783333</td>\n",
       "      <td>21</td>\n",
       "      <td>6</td>\n",
       "      <td>3</td>\n",
       "      <td>1</td>\n",
       "    </tr>\n",
       "    <tr>\n",
       "      <th>4</th>\n",
       "      <td>11.16</td>\n",
       "      <td>8.0</td>\n",
       "      <td>2017-01-22 21:55:06</td>\n",
       "      <td>2017-01-22 22:03:13</td>\n",
       "      <td>1.71</td>\n",
       "      <td>8.116667</td>\n",
       "      <td>21</td>\n",
       "      <td>6</td>\n",
       "      <td>3</td>\n",
       "      <td>1</td>\n",
       "    </tr>\n",
       "  </tbody>\n",
       "</table>\n",
       "</div>"
      ],
      "text/plain": [
       "   total_amount  fare_amount lpep_pickup_datetime lpep_dropoff_datetime  \\\n",
       "0         20.30         16.5  2017-01-22 21:49:27   2017-01-22 22:07:02   \n",
       "1         26.16         20.5  2017-01-22 21:52:32   2017-01-22 22:15:40   \n",
       "2         10.56          7.5  2017-01-22 21:07:23   2017-01-22 21:14:19   \n",
       "3         12.96          9.5  2017-01-22 21:37:01   2017-01-22 21:46:48   \n",
       "4         11.16          8.0  2017-01-22 21:55:06   2017-01-22 22:03:13   \n",
       "\n",
       "   trip_distance  duration_minutes  hour_of_day  day_of_week  week_of_year  \\\n",
       "0           4.74         17.583333           21            6             3   \n",
       "1           5.56         23.133333           21            6             3   \n",
       "2           1.61          6.933333           21            6             3   \n",
       "3           2.28          9.783333           21            6             3   \n",
       "4           1.71          8.116667           21            6             3   \n",
       "\n",
       "   month_of_year  \n",
       "0              1  \n",
       "1              1  \n",
       "2              1  \n",
       "3              1  \n",
       "4              1  "
      ]
     },
     "execution_count": 10,
     "metadata": {},
     "output_type": "execute_result"
    }
   ],
   "source": [
    "# Exclude any outliers\n",
    "data_df = data_df[(data_df.total_amount > 0) & (data_df.total_amount < 200) & \n",
    "                  (data_df.duration_minutes > 0) & (data_df.duration_minutes < 120) & \n",
    "                  (data_df.trip_distance > 0) & (data_df.trip_distance < 1000)].dropna()\n",
    "print(data_df.shape)\n",
    "data_df.head()"
   ]
  },
  {
   "cell_type": "markdown",
   "metadata": {},
   "source": [
    "## Explore Data\n",
    "\n",
    "Let's do some statistical analysis about the data.\n",
    "\n",
    "### Mean value\n",
    "We shall begin by finding the mean value for the total amount. To find the mean value for a column, we will use the `DataFrame.mean()` function. In this case to get the mean value for the total amount we will select the column `data_df['total_amount']` and then apply the mean function `mean()`.\n",
    "\n",
    "For more information about the mean function, refer to the following: https://pandas.pydata.org/pandas-docs/stable/reference/api/pandas.Series.mean.html"
   ]
  },
  {
   "cell_type": "code",
   "execution_count": 11,
   "metadata": {},
   "outputs": [
    {
     "data": {
      "text/plain": [
       "13.641447761527468"
      ]
     },
     "execution_count": 11,
     "metadata": {},
     "output_type": "execute_result"
    }
   ],
   "source": [
    "data_df['total_amount'].mean()"
   ]
  },
  {
   "cell_type": "markdown",
   "metadata": {},
   "source": [
    "### Min and max value\n",
    "\n",
    "Now, let's try and find the minimum and maximum total amount paid to NY taxis.\n",
    "\n",
    "We can do that by using the `Series.min()` and `Series.max()` function.\n",
    "\n",
    "Reference:\n",
    "\n",
    "- Max function: https://pandas.pydata.org/pandas-docs/stable/reference/api/pandas.Series.max.html\n",
    "- Min function: https://pandas.pydata.org/pandas-docs/stable/reference/api/pandas.Series.min.html"
   ]
  },
  {
   "cell_type": "code",
   "execution_count": 12,
   "metadata": {},
   "outputs": [
    {
     "data": {
      "text/plain": [
       "0.01"
      ]
     },
     "execution_count": 12,
     "metadata": {},
     "output_type": "execute_result"
    }
   ],
   "source": [
    "# Minimum amount\n",
    "data_df['total_amount'].min()"
   ]
  },
  {
   "cell_type": "code",
   "execution_count": 13,
   "metadata": {},
   "outputs": [
    {
     "data": {
      "text/plain": [
       "197.8"
      ]
     },
     "execution_count": 13,
     "metadata": {},
     "output_type": "execute_result"
    }
   ],
   "source": [
    "# Maximum amount\n",
    "data_df['total_amount'].max()"
   ]
  },
  {
   "cell_type": "markdown",
   "metadata": {},
   "source": [
    "Interesting, the minimum total amount paid was \\\\$0.01. As we explore our data, we need to understand what is normal and if \\\\$0.01 is normal for a total amount paid. Would you have identified this as an outlier? If that is the case, we might need to remove such data from our dataset. For this exercise, we will not do that, but as you start preparing data for your machine learning model, it is important to understand your data and remove outliers that might affect your model.\n",
    "\n",
    "### Advanced - groupby and size\n",
    "Now let us try one more statistical analysis. Let's try and find out which hour in the day had the most number of trips. Let us start by grouping the data by hour of day using the `groupby()` function. Next we use the `size()` function to count the rows for each hour.\n"
   ]
  },
  {
   "cell_type": "code",
   "execution_count": 14,
   "metadata": {},
   "outputs": [
    {
     "data": {
      "text/plain": [
       "hour_of_day\n",
       "0     40599\n",
       "1     32514\n",
       "2     25317\n",
       "3     20663\n",
       "4     17265\n",
       "5     11170\n",
       "6     13963\n",
       "7     29663\n",
       "8     44430\n",
       "9     44741\n",
       "10    41330\n",
       "11    41533\n",
       "12    41190\n",
       "13    43704\n",
       "14    48804\n",
       "15    55595\n",
       "16    61169\n",
       "17    68250\n",
       "18    74996\n",
       "19    71789\n",
       "20    63387\n",
       "21    57433\n",
       "22    51261\n",
       "23    45615\n",
       "dtype: int64"
      ]
     },
     "execution_count": 14,
     "metadata": {},
     "output_type": "execute_result"
    }
   ],
   "source": [
    "data_df.groupby('hour_of_day').size()"
   ]
  },
  {
   "cell_type": "markdown",
   "metadata": {},
   "source": [
    "As we can see, we get a list of hours and the count. Can you find which hour had the most number of taxi trips?\n",
    "\n",
    "It is the 18th hour or 6pm as we might have expected where everyone is knocking off from work. Let us try another way and see if we can get the exact hour by using the `idmax()` function which will give us the index of the hour."
   ]
  },
  {
   "cell_type": "code",
   "execution_count": 15,
   "metadata": {},
   "outputs": [
    {
     "data": {
      "text/plain": [
       "18"
      ]
     },
     "execution_count": 15,
     "metadata": {},
     "output_type": "execute_result"
    }
   ],
   "source": [
    "data_df.groupby('hour_of_day').size().idxmax()"
   ]
  },
  {
   "cell_type": "markdown",
   "metadata": {},
   "source": [
    "## Exercise\n",
    "\n",
    "Now that we've gone through some statistical analysis examples, let's see if you can apply what you've learn and find the answers to the following:\n",
    "\n",
    "1. Average fare amount\n",
    "2. Minimum fare\n",
    "3. Maximum fare\n",
    "4. Shortest trip by distance\n",
    "5. Longest trip by distance\n",
    "6. Day with the most number of trips\n",
    "\n",
    "**Hint**: Refer to the previous examples and apply them to the approrpiate columns."
   ]
  },
  {
   "cell_type": "code",
   "execution_count": 16,
   "metadata": {},
   "outputs": [],
   "source": [
    "# Average fare amount\n"
   ]
  },
  {
   "cell_type": "code",
   "execution_count": 17,
   "metadata": {},
   "outputs": [],
   "source": [
    "# Minimum fare amount"
   ]
  },
  {
   "cell_type": "code",
   "execution_count": 18,
   "metadata": {},
   "outputs": [],
   "source": [
    "# Maximum fare amount"
   ]
  },
  {
   "cell_type": "code",
   "execution_count": 19,
   "metadata": {},
   "outputs": [],
   "source": [
    "# Shortest trip by distance"
   ]
  },
  {
   "cell_type": "code",
   "execution_count": 20,
   "metadata": {},
   "outputs": [],
   "source": [
    "# Longest trip by distance"
   ]
  },
  {
   "cell_type": "code",
   "execution_count": 21,
   "metadata": {},
   "outputs": [],
   "source": [
    "# Day of the week with the most number of trips\n",
    "# Note: 0 is Monday, and 6 is Sunday\n"
   ]
  },
  {
   "cell_type": "markdown",
   "metadata": {},
   "source": [
    "## Visualise Data\n"
   ]
  },
  {
   "cell_type": "code",
   "execution_count": 22,
   "metadata": {},
   "outputs": [],
   "source": [
    "# Setup plotting defaults\n",
    "import matplotlib.pyplot as plt\n",
    "import matplotlib as mpl\n",
    "import seaborn as sns\n",
    "%matplotlib inline\n",
    "\n",
    "mpl.style.use('seaborn')\n",
    "\n",
    "mpl.rcParams['figure.figsize'] = [12.0, 6.0]\n",
    "mpl.rcParams['figure.dpi'] = 80\n",
    "mpl.rcParams['savefig.dpi'] = 100\n",
    "\n",
    "mpl.rcParams['font.size'] = 12\n",
    "mpl.rcParams['legend.fontsize'] = 'medium'\n",
    "mpl.rcParams['figure.titlesize'] = 'medium'\n",
    "\n",
    "sample_df = data_df.sample(1000)"
   ]
  },
  {
   "cell_type": "markdown",
   "metadata": {},
   "source": [
    "Inspect the distribution of data by date, and then cost/time metrics"
   ]
  },
  {
   "cell_type": "code",
   "execution_count": 23,
   "metadata": {},
   "outputs": [
    {
     "data": {
      "text/plain": [
       "array([[<matplotlib.axes._subplots.AxesSubplot object at 0x7fea46cd9518>,\n",
       "        <matplotlib.axes._subplots.AxesSubplot object at 0x7fea46cadf60>],\n",
       "       [<matplotlib.axes._subplots.AxesSubplot object at 0x7fea46c66940>,\n",
       "        <matplotlib.axes._subplots.AxesSubplot object at 0x7fea46c20320>]],\n",
       "      dtype=object)"
      ]
     },
     "execution_count": 23,
     "metadata": {},
     "output_type": "execute_result"
    },
    {
     "data": {
      "image/png": "[encoded data removed]",
      "text/plain": [
       "<Figure size 960x480 with 4 Axes>"
      ]
     },
     "metadata": {},
     "output_type": "display_data"
    }
   ],
   "source": [
    "date_cols = ['hour_of_day', 'day_of_week', 'week_of_year', 'month_of_year']\n",
    "sample_df[date_cols].hist(bins=100)"
   ]
  },
  {
   "cell_type": "code",
   "execution_count": 24,
   "metadata": {},
   "outputs": [
    {
     "data": {
      "text/plain": [
       "array([[<matplotlib.axes._subplots.AxesSubplot object at 0x7fea466d5d68>,\n",
       "        <matplotlib.axes._subplots.AxesSubplot object at 0x7fea46704be0>],\n",
       "       [<matplotlib.axes._subplots.AxesSubplot object at 0x7fea466a8160>,\n",
       "        <matplotlib.axes._subplots.AxesSubplot object at 0x7fea466526a0>]],\n",
       "      dtype=object)"
      ]
     },
     "execution_count": 24,
     "metadata": {},
     "output_type": "execute_result"
    },
    {
     "data": {
      "image/png": "[encoded data removed]",
      "text/plain": [
       "<Figure size 960x480 with 4 Axes>"
      ]
     },
     "metadata": {},
     "output_type": "display_data"
    }
   ],
   "source": [
    "cost_cols =  ['total_amount', 'fare_amount', 'duration_minutes', 'trip_distance']\n",
    "sample_df[cost_cols].hist(bins=100)"
   ]
  },
  {
   "cell_type": "markdown",
   "metadata": {},
   "source": [
    "See if there is a correlation between duration in minutes and trip distance"
   ]
  },
  {
   "cell_type": "code",
   "execution_count": 25,
   "metadata": {},
   "outputs": [
    {
     "data": {
      "text/plain": [
       "<matplotlib.axes._subplots.AxesSubplot at 0x7fea4634f208>"
      ]
     },
     "execution_count": 25,
     "metadata": {},
     "output_type": "execute_result"
    },
    {
     "data": {
      "image/png": "[encoded data removed]",
      "text/plain": [
       "<Figure size 960x480 with 1 Axes>"
      ]
     },
     "metadata": {},
     "output_type": "display_data"
    }
   ],
   "source": [
    "sample_df.plot.scatter(x='duration_minutes', y='fare_amount')"
   ]
  },
  {
   "cell_type": "code",
   "execution_count": 26,
   "metadata": {},
   "outputs": [
    {
     "data": {
      "text/plain": [
       "<matplotlib.axes._subplots.AxesSubplot at 0x7fea461ef8d0>"
      ]
     },
     "execution_count": 26,
     "metadata": {},
     "output_type": "execute_result"
    },
    {
     "data": {
      "image/png": "[encoded data removed]",
      "text/plain": [
       "<Figure size 960x480 with 1 Axes>"
      ]
     },
     "metadata": {},
     "output_type": "display_data"
    }
   ],
   "source": [
    "sample_df.plot.scatter(x='trip_distance', y='fare_amount')"
   ]
  },
  {
   "cell_type": "code",
   "execution_count": 27,
   "metadata": {},
   "outputs": [
    {
     "data": {
      "text/plain": [
       "<matplotlib.axes._subplots.AxesSubplot at 0x7fea460b6630>"
      ]
     },
     "execution_count": 27,
     "metadata": {},
     "output_type": "execute_result"
    },
    {
     "data": {
      "image/png": "[encoded data removed]",
      "text/plain": [
       "<Figure size 960x480 with 1 Axes>"
      ]
     },
     "metadata": {},
     "output_type": "display_data"
    }
   ],
   "source": [
    "sample_df.plot.scatter(x='hour_of_day', y='fare_amount')"
   ]
  },
  {
   "cell_type": "markdown",
   "metadata": {},
   "source": [
    "## Train Model\n",
    "\n",
    "Build an XGBoost model to predict the total amount based on some fields"
   ]
  },
  {
   "cell_type": "code",
   "execution_count": 28,
   "metadata": {},
   "outputs": [
    {
     "name": "stdout",
     "output_type": "stream",
     "text": [
      "bucket: sagemaker-us-east-1-769203131176, prefix: nyc-taxi\n"
     ]
    }
   ],
   "source": [
    "import boto3 \n",
    "import sagemaker\n",
    "\n",
    "sagemaker_session = sagemaker.session.Session(boto_session)\n",
    "role = sagemaker.get_execution_role()\n",
    "prefix = 'nyc-taxi'\n",
    "\n",
    "print('bucket: {}, prefix: {}'.format(bucket, prefix))"
   ]
  },
  {
   "cell_type": "code",
   "execution_count": 29,
   "metadata": {},
   "outputs": [
    {
     "name": "stdout",
     "output_type": "stream",
     "text": [
      "split train: 837104, val: 104638, test: 104639 \n"
     ]
    }
   ],
   "source": [
    "# Trip test split\n",
    "from sklearn.model_selection import train_test_split\n",
    "\n",
    "train_cols = ['total_amount', 'duration_minutes', 'trip_distance', 'hour_of_day']\n",
    "train_df, val_df = train_test_split(data_df[train_cols], test_size=0.20, random_state=42)\n",
    "val_df, test_df = train_test_split(val_df, test_size=0.50, random_state=42)\n",
    "\n",
    "print('split train: {}, val: {}, test: {} '.format(train_df.shape[0], val_df.shape[0], test_df.shape[0]))"
   ]
  },
  {
   "cell_type": "code",
   "execution_count": 30,
   "metadata": {},
   "outputs": [],
   "source": [
    "# Reset index and save files with target as first column\n",
    "train_df = train_df.reset_index(drop=True)\n",
    "val_df = val_df.reset_index(drop=True)\n",
    "test_df = test_df.reset_index(drop=True)"
   ]
  },
  {
   "cell_type": "markdown",
   "metadata": {},
   "source": [
    "### Upload Data\n",
    "\n",
    "Save train and validation as CSV with `total_amount` as first col but no headers"
   ]
  },
  {
   "cell_type": "code",
   "execution_count": 31,
   "metadata": {},
   "outputs": [],
   "source": [
    "# Drop the tpep_pickup_datetime and save\n",
    "train_df.to_csv('train.csv', index=False, header=False)\n",
    "val_df.to_csv('validation.csv', index=False, header=False)"
   ]
  },
  {
   "cell_type": "code",
   "execution_count": 32,
   "metadata": {},
   "outputs": [
    {
     "name": "stdout",
     "output_type": "stream",
     "text": [
      "CPU times: user 241 ms, sys: 24.3 ms, total: 265 ms\n",
      "Wall time: 682 ms\n"
     ]
    }
   ],
   "source": [
    "%%time\n",
    "\n",
    "# Uplaod the files to s3 \n",
    "s3_train_uri = sagemaker_session.upload_data('train.csv', bucket, prefix + '/data/training')\n",
    "s3_val_uri = sagemaker_session.upload_data('validation.csv', bucket, prefix + '/data/validation')"
   ]
  },
  {
   "cell_type": "markdown",
   "metadata": {},
   "source": [
    "Validate that we have uploaded these files succesfully"
   ]
  },
  {
   "cell_type": "code",
   "execution_count": 33,
   "metadata": {},
   "outputs": [
    {
     "name": "stdout",
     "output_type": "stream",
     "text": [
      "2020-10-05 07:22:28   22028376 train.csv\n",
      "2020-10-05 07:22:28    2756271 validation.csv\n"
     ]
    }
   ],
   "source": [
    "!aws s3 ls $s3_train_uri \n",
    "!aws s3 ls $s3_val_uri"
   ]
  },
  {
   "cell_type": "markdown",
   "metadata": {},
   "source": [
    "### Get estimator"
   ]
  },
  {
   "cell_type": "code",
   "execution_count": 34,
   "metadata": {},
   "outputs": [
    {
     "name": "stdout",
     "output_type": "stream",
     "text": [
      "container: 811284229777.dkr.ecr.us-east-1.amazonaws.com/xgboost:latest\n"
     ]
    }
   ],
   "source": [
    "container = sagemaker.image_uris.retrieve(region=region, framework=\"xgboost\", version=\"latest\")\n",
    "print('container: {}'.format(container))"
   ]
  },
  {
   "cell_type": "code",
   "execution_count": 35,
   "metadata": {},
   "outputs": [
    {
     "name": "stdout",
     "output_type": "stream",
     "text": [
      "output: s3://sagemaker-us-east-1-769203131176/nyc-taxi/output\n"
     ]
    }
   ],
   "source": [
    "output_path = 's3://{}/{}/output'.format(bucket, prefix)\n",
    "print('output: {}'.format(output_path))\n",
    "\n",
    "xgb = sagemaker.estimator.Estimator(container,\n",
    "                                    role,\n",
    "                                    instance_count=1,\n",
    "                                    instance_type='ml.m4.xlarge',\n",
    "                                    output_path=output_path,\n",
    "                                    sagemaker_session=sagemaker_session)"
   ]
  },
  {
   "cell_type": "code",
   "execution_count": 36,
   "metadata": {},
   "outputs": [
    {
     "name": "stdout",
     "output_type": "stream",
     "text": [
      "2020-10-05 07:22:31 Starting - Starting the training job...\n",
      "2020-10-05 07:22:33 Starting - Launching requested ML instances......\n",
      "2020-10-05 07:23:37 Starting - Preparing the instances for training......\n",
      "2020-10-05 07:24:33 Downloading - Downloading input data...\n",
      "2020-10-05 07:25:27 Training - Training image download completed. Training in progress..\u001b[34mArguments: train\u001b[0m\n",
      "\u001b[34m[2020-10-05:07:25:28:INFO] Running standalone xgboost training.\u001b[0m\n",
      "\u001b[34m[2020-10-05:07:25:28:INFO] File size need to be processed in the node: 23.64mb. Available memory size in the node: 8470.35mb\u001b[0m\n",
      "\u001b[34m[2020-10-05:07:25:28:INFO] Determined delimiter of CSV input is ','\u001b[0m\n",
      "\u001b[34m[07:25:28] S3DistributionType set as FullyReplicated\u001b[0m\n",
      "\u001b[34m[07:25:28] 837104x3 matrix with 2511312 entries loaded from /opt/ml/input/data/train?format=csv&label_column=0&delimiter=,\u001b[0m\n",
      "\u001b[34m[2020-10-05:07:25:28:INFO] Determined delimiter of CSV input is ','\u001b[0m\n",
      "\u001b[34m[07:25:28] S3DistributionType set as FullyReplicated\u001b[0m\n",
      "\u001b[34m[07:25:28] 104638x3 matrix with 313914 entries loaded from /opt/ml/input/data/validation?format=csv&label_column=0&delimiter=,\u001b[0m\n",
      "\u001b[34m[07:25:28] src/tree/updater_prune.cc:74: tree pruning end, 1 roots, 514 extra nodes, 2 pruned nodes, max_depth=9\u001b[0m\n",
      "\u001b[34m[0]#011train-rmse:13.0792#011validation-rmse:13.0804\u001b[0m\n",
      "\u001b[34mMultiple eval metrics have been passed: 'validation-rmse' will be used for early stopping.\n",
      "\u001b[0m\n",
      "\u001b[34mWill train until validation-rmse hasn't improved in 10 rounds.\u001b[0m\n",
      "\u001b[34m[07:25:29] src/tree/updater_prune.cc:74: tree pruning end, 1 roots, 540 extra nodes, 0 pruned nodes, max_depth=9\u001b[0m\n",
      "\u001b[34m[1]#011train-rmse:10.6209#011validation-rmse:10.6167\u001b[0m\n",
      "\u001b[34m[07:25:29] src/tree/updater_prune.cc:74: tree pruning end, 1 roots, 542 extra nodes, 4 pruned nodes, max_depth=9\u001b[0m\n",
      "\u001b[34m[2]#011train-rmse:8.68702#011validation-rmse:8.67785\u001b[0m\n",
      "\u001b[34m[07:25:30] src/tree/updater_prune.cc:74: tree pruning end, 1 roots, 556 extra nodes, 4 pruned nodes, max_depth=9\u001b[0m\n",
      "\u001b[34m[3]#011train-rmse:7.17952#011validation-rmse:7.16589\u001b[0m\n",
      "\u001b[34m[07:25:30] src/tree/updater_prune.cc:74: tree pruning end, 1 roots, 558 extra nodes, 8 pruned nodes, max_depth=9\u001b[0m\n",
      "\u001b[34m[4]#011train-rmse:6.01737#011validation-rmse:6.00001\u001b[0m\n",
      "\u001b[34m[07:25:30] src/tree/updater_prune.cc:74: tree pruning end, 1 roots, 594 extra nodes, 8 pruned nodes, max_depth=9\u001b[0m\n",
      "\u001b[34m[5]#011train-rmse:5.13595#011validation-rmse:5.1151\u001b[0m\n",
      "\u001b[34m[07:25:31] src/tree/updater_prune.cc:74: tree pruning end, 1 roots, 612 extra nodes, 10 pruned nodes, max_depth=9\u001b[0m\n",
      "\u001b[34m[6]#011train-rmse:4.48144#011validation-rmse:4.45754\u001b[0m\n",
      "\u001b[34m[07:25:31] src/tree/updater_prune.cc:74: tree pruning end, 1 roots, 594 extra nodes, 16 pruned nodes, max_depth=9\u001b[0m\n",
      "\u001b[34m[7]#011train-rmse:4.00399#011validation-rmse:3.97742\u001b[0m\n",
      "\u001b[34m[07:25:31] src/tree/updater_prune.cc:74: tree pruning end, 1 roots, 578 extra nodes, 4 pruned nodes, max_depth=9\u001b[0m\n",
      "\u001b[34m[8]#011train-rmse:3.66455#011validation-rmse:3.63603\u001b[0m\n",
      "\u001b[34m[07:25:32] src/tree/updater_prune.cc:74: tree pruning end, 1 roots, 544 extra nodes, 6 pruned nodes, max_depth=9\u001b[0m\n",
      "\u001b[34m[9]#011train-rmse:3.42978#011validation-rmse:3.4002\u001b[0m\n",
      "\u001b[34m[07:25:33] src/tree/updater_prune.cc:74: tree pruning end, 1 roots, 538 extra nodes, 6 pruned nodes, max_depth=9\u001b[0m\n",
      "\u001b[34m[10]#011train-rmse:3.26939#011validation-rmse:3.24057\u001b[0m\n",
      "\u001b[34m[07:25:33] src/tree/updater_prune.cc:74: tree pruning end, 1 roots, 534 extra nodes, 4 pruned nodes, max_depth=9\u001b[0m\n",
      "\u001b[34m[11]#011train-rmse:3.16043#011validation-rmse:3.13154\u001b[0m\n",
      "\u001b[34m[07:25:33] src/tree/updater_prune.cc:74: tree pruning end, 1 roots, 486 extra nodes, 2 pruned nodes, max_depth=9\u001b[0m\n",
      "\u001b[34m[12]#011train-rmse:3.08924#011validation-rmse:3.06046\u001b[0m\n",
      "\u001b[34m[07:25:34] src/tree/updater_prune.cc:74: tree pruning end, 1 roots, 450 extra nodes, 2 pruned nodes, max_depth=9\u001b[0m\n",
      "\u001b[34m[13]#011train-rmse:3.04094#011validation-rmse:3.01284\u001b[0m\n",
      "\u001b[34m[07:25:34] src/tree/updater_prune.cc:74: tree pruning end, 1 roots, 286 extra nodes, 0 pruned nodes, max_depth=9\u001b[0m\n",
      "\u001b[34m[14]#011train-rmse:3.00791#011validation-rmse:2.98097\u001b[0m\n",
      "\u001b[34m[07:25:35] src/tree/updater_prune.cc:74: tree pruning end, 1 roots, 298 extra nodes, 0 pruned nodes, max_depth=9\u001b[0m\n",
      "\u001b[34m[15]#011train-rmse:2.98677#011validation-rmse:2.96125\u001b[0m\n",
      "\u001b[34m[07:25:35] src/tree/updater_prune.cc:74: tree pruning end, 1 roots, 290 extra nodes, 2 pruned nodes, max_depth=9\u001b[0m\n",
      "\u001b[34m[16]#011train-rmse:2.97225#011validation-rmse:2.94805\u001b[0m\n",
      "\u001b[34m[07:25:35] src/tree/updater_prune.cc:74: tree pruning end, 1 roots, 224 extra nodes, 0 pruned nodes, max_depth=9\u001b[0m\n",
      "\u001b[34m[17]#011train-rmse:2.96278#011validation-rmse:2.93996\u001b[0m\n",
      "\u001b[34m[07:25:36] src/tree/updater_prune.cc:74: tree pruning end, 1 roots, 180 extra nodes, 0 pruned nodes, max_depth=9\u001b[0m\n",
      "\u001b[34m[18]#011train-rmse:2.95629#011validation-rmse:2.93485\u001b[0m\n",
      "\u001b[34m[07:25:36] src/tree/updater_prune.cc:74: tree pruning end, 1 roots, 176 extra nodes, 2 pruned nodes, max_depth=9\u001b[0m\n",
      "\u001b[34m[19]#011train-rmse:2.95163#011validation-rmse:2.9316\u001b[0m\n",
      "\u001b[34m[07:25:37] src/tree/updater_prune.cc:74: tree pruning end, 1 roots, 122 extra nodes, 0 pruned nodes, max_depth=9\u001b[0m\n",
      "\u001b[34m[20]#011train-rmse:2.94845#011validation-rmse:2.92932\u001b[0m\n",
      "\u001b[34m[07:25:37] src/tree/updater_prune.cc:74: tree pruning end, 1 roots, 112 extra nodes, 0 pruned nodes, max_depth=9\u001b[0m\n",
      "\u001b[34m[21]#011train-rmse:2.94641#011validation-rmse:2.92799\u001b[0m\n",
      "\u001b[34m[07:25:37] src/tree/updater_prune.cc:74: tree pruning end, 1 roots, 104 extra nodes, 0 pruned nodes, max_depth=9\u001b[0m\n",
      "\u001b[34m[22]#011train-rmse:2.94493#011validation-rmse:2.92715\u001b[0m\n",
      "\u001b[34m[07:25:38] src/tree/updater_prune.cc:74: tree pruning end, 1 roots, 62 extra nodes, 0 pruned nodes, max_depth=9\u001b[0m\n",
      "\u001b[34m[23]#011train-rmse:2.94304#011validation-rmse:2.92663\u001b[0m\n",
      "\u001b[34m[07:25:38] src/tree/updater_prune.cc:74: tree pruning end, 1 roots, 84 extra nodes, 0 pruned nodes, max_depth=9\u001b[0m\n",
      "\u001b[34m[24]#011train-rmse:2.94202#011validation-rmse:2.92644\u001b[0m\n",
      "\u001b[34m[07:25:38] src/tree/updater_prune.cc:74: tree pruning end, 1 roots, 106 extra nodes, 0 pruned nodes, max_depth=9\u001b[0m\n",
      "\u001b[34m[25]#011train-rmse:2.94102#011validation-rmse:2.9261\u001b[0m\n",
      "\u001b[34m[07:25:39] src/tree/updater_prune.cc:74: tree pruning end, 1 roots, 94 extra nodes, 0 pruned nodes, max_depth=9\u001b[0m\n",
      "\u001b[34m[26]#011train-rmse:2.94028#011validation-rmse:2.92593\u001b[0m\n",
      "\u001b[34m[07:25:39] src/tree/updater_prune.cc:74: tree pruning end, 1 roots, 56 extra nodes, 0 pruned nodes, max_depth=9\u001b[0m\n",
      "\u001b[34m[27]#011train-rmse:2.93913#011validation-rmse:2.92515\u001b[0m\n",
      "\u001b[34m[07:25:39] src/tree/updater_prune.cc:74: tree pruning end, 1 roots, 36 extra nodes, 0 pruned nodes, max_depth=9\u001b[0m\n",
      "\u001b[34m[28]#011train-rmse:2.93863#011validation-rmse:2.92486\u001b[0m\n",
      "\u001b[34m[07:25:40] src/tree/updater_prune.cc:74: tree pruning end, 1 roots, 36 extra nodes, 0 pruned nodes, max_depth=9\u001b[0m\n",
      "\u001b[34m[29]#011train-rmse:2.93805#011validation-rmse:2.92456\u001b[0m\n",
      "\u001b[34m[07:25:40] src/tree/updater_prune.cc:74: tree pruning end, 1 roots, 32 extra nodes, 0 pruned nodes, max_depth=9\u001b[0m\n",
      "\u001b[34m[30]#011train-rmse:2.93765#011validation-rmse:2.92421\u001b[0m\n",
      "\u001b[34m[07:25:40] src/tree/updater_prune.cc:74: tree pruning end, 1 roots, 26 extra nodes, 0 pruned nodes, max_depth=9\u001b[0m\n",
      "\u001b[34m[31]#011train-rmse:2.93724#011validation-rmse:2.92428\u001b[0m\n",
      "\u001b[34m[07:25:41] src/tree/updater_prune.cc:74: tree pruning end, 1 roots, 26 extra nodes, 0 pruned nodes, max_depth=9\u001b[0m\n",
      "\u001b[34m[32]#011train-rmse:2.93706#011validation-rmse:2.92429\u001b[0m\n",
      "\u001b[34m[07:25:41] src/tree/updater_prune.cc:74: tree pruning end, 1 roots, 38 extra nodes, 0 pruned nodes, max_depth=9\u001b[0m\n",
      "\u001b[34m[33]#011train-rmse:2.93667#011validation-rmse:2.92417\u001b[0m\n",
      "\u001b[34m[07:25:41] src/tree/updater_prune.cc:74: tree pruning end, 1 roots, 36 extra nodes, 0 pruned nodes, max_depth=9\u001b[0m\n",
      "\u001b[34m[34]#011train-rmse:2.93634#011validation-rmse:2.92387\u001b[0m\n",
      "\u001b[34m[07:25:42] src/tree/updater_prune.cc:74: tree pruning end, 1 roots, 38 extra nodes, 0 pruned nodes, max_depth=9\u001b[0m\n",
      "\u001b[34m[35]#011train-rmse:2.93595#011validation-rmse:2.92379\u001b[0m\n",
      "\u001b[34m[07:25:42] src/tree/updater_prune.cc:74: tree pruning end, 1 roots, 30 extra nodes, 0 pruned nodes, max_depth=9\u001b[0m\n",
      "\u001b[34m[36]#011train-rmse:2.93563#011validation-rmse:2.92354\u001b[0m\n",
      "\u001b[34m[07:25:42] src/tree/updater_prune.cc:74: tree pruning end, 1 roots, 34 extra nodes, 0 pruned nodes, max_depth=9\u001b[0m\n",
      "\u001b[34m[37]#011train-rmse:2.93541#011validation-rmse:2.92334\u001b[0m\n",
      "\u001b[34m[07:25:42] src/tree/updater_prune.cc:74: tree pruning end, 1 roots, 36 extra nodes, 0 pruned nodes, max_depth=9\u001b[0m\n",
      "\u001b[34m[38]#011train-rmse:2.93496#011validation-rmse:2.92347\u001b[0m\n",
      "\u001b[34m[07:25:43] src/tree/updater_prune.cc:74: tree pruning end, 1 roots, 44 extra nodes, 0 pruned nodes, max_depth=9\u001b[0m\n",
      "\u001b[34m[39]#011train-rmse:2.93428#011validation-rmse:2.92319\u001b[0m\n",
      "\u001b[34m[07:25:43] src/tree/updater_prune.cc:74: tree pruning end, 1 roots, 42 extra nodes, 0 pruned nodes, max_depth=9\u001b[0m\n",
      "\u001b[34m[40]#011train-rmse:2.93377#011validation-rmse:2.9228\u001b[0m\n",
      "\u001b[34m[07:25:43] src/tree/updater_prune.cc:74: tree pruning end, 1 roots, 52 extra nodes, 0 pruned nodes, max_depth=9\u001b[0m\n",
      "\u001b[34m[41]#011train-rmse:2.93327#011validation-rmse:2.9232\u001b[0m\n",
      "\u001b[34m[07:25:44] src/tree/updater_prune.cc:74: tree pruning end, 1 roots, 36 extra nodes, 0 pruned nodes, max_depth=9\u001b[0m\n",
      "\u001b[34m[42]#011train-rmse:2.933#011validation-rmse:2.92375\u001b[0m\n",
      "\u001b[34m[07:25:44] src/tree/updater_prune.cc:74: tree pruning end, 1 roots, 36 extra nodes, 0 pruned nodes, max_depth=9\u001b[0m\n",
      "\u001b[34m[43]#011train-rmse:2.93275#011validation-rmse:2.92391\u001b[0m\n",
      "\u001b[34m[07:25:44] src/tree/updater_prune.cc:74: tree pruning end, 1 roots, 34 extra nodes, 0 pruned nodes, max_depth=9\u001b[0m\n",
      "\u001b[34m[44]#011train-rmse:2.93254#011validation-rmse:2.92385\u001b[0m\n",
      "\u001b[34m[07:25:45] src/tree/updater_prune.cc:74: tree pruning end, 1 roots, 46 extra nodes, 0 pruned nodes, max_depth=9\u001b[0m\n",
      "\u001b[34m[45]#011train-rmse:2.93224#011validation-rmse:2.92386\u001b[0m\n",
      "\u001b[34m[07:25:45] src/tree/updater_prune.cc:74: tree pruning end, 1 roots, 34 extra nodes, 0 pruned nodes, max_depth=9\u001b[0m\n",
      "\u001b[34m[46]#011train-rmse:2.93185#011validation-rmse:2.92346\u001b[0m\n",
      "\u001b[34m[07:25:45] src/tree/updater_prune.cc:74: tree pruning end, 1 roots, 52 extra nodes, 0 pruned nodes, max_depth=9\u001b[0m\n",
      "\u001b[34m[47]#011train-rmse:2.93145#011validation-rmse:2.92337\u001b[0m\n",
      "\u001b[34m[07:25:46] src/tree/updater_prune.cc:74: tree pruning end, 1 roots, 32 extra nodes, 0 pruned nodes, max_depth=9\u001b[0m\n",
      "\u001b[34m[48]#011train-rmse:2.93126#011validation-rmse:2.92305\u001b[0m\n",
      "\u001b[34m[07:25:46] src/tree/updater_prune.cc:74: tree pruning end, 1 roots, 34 extra nodes, 0 pruned nodes, max_depth=9\u001b[0m\n",
      "\u001b[34m[49]#011train-rmse:2.93083#011validation-rmse:2.92346\u001b[0m\n",
      "\u001b[34m[07:25:46] src/tree/updater_prune.cc:74: tree pruning end, 1 roots, 42 extra nodes, 0 pruned nodes, max_depth=9\u001b[0m\n",
      "\u001b[34m[50]#011train-rmse:2.93054#011validation-rmse:2.92321\u001b[0m\n",
      "\u001b[34mStopping. Best iteration:\u001b[0m\n",
      "\u001b[34m[40]#011train-rmse:2.93377#011validation-rmse:2.9228\n",
      "\u001b[0m\n",
      "\n",
      "2020-10-05 07:25:55 Uploading - Uploading generated training model\n",
      "2020-10-05 07:25:55 Completed - Training job completed\n",
      "Training seconds: 82\n",
      "Billable seconds: 82\n"
     ]
    }
   ],
   "source": [
    "xgb.set_hyperparameters(max_depth=9,\n",
    "                        eta=0.2, \n",
    "                        gamma=4,\n",
    "                        min_child_weight=300,\n",
    "                        subsample=0.8,\n",
    "                        silent=0,\n",
    "                        objective='reg:linear',\n",
    "                        early_stopping_rounds=10,\n",
    "                        num_round=10000)\n",
    "\n",
    "s3_input_train = sagemaker.inputs.TrainingInput(s3_data=s3_train_uri, content_type=\"csv\")\n",
    "s3_input_val = sagemaker.inputs.TrainingInput(s3_data=s3_val_uri, content_type=\"csv\")\n",
    "\n",
    "xgb.fit({'train': s3_input_train,  'validation': s3_input_val})"
   ]
  },
  {
   "cell_type": "markdown",
   "metadata": {},
   "source": [
    "### Deploy model"
   ]
  },
  {
   "cell_type": "code",
   "execution_count": 37,
   "metadata": {},
   "outputs": [
    {
     "name": "stdout",
     "output_type": "stream",
     "text": [
      "----------------!"
     ]
    }
   ],
   "source": [
    "xgb_predictor = xgb.deploy(initial_instance_count=1, instance_type='ml.m4.xlarge')"
   ]
  },
  {
   "cell_type": "markdown",
   "metadata": {},
   "source": [
    "### Evalulate Model\n",
    "\n",
    "Get predicitons for the validation set"
   ]
  },
  {
   "cell_type": "code",
   "execution_count": 38,
   "metadata": {},
   "outputs": [],
   "source": [
    "from sagemaker.serializers import CSVSerializer\n",
    "xgb_predictor.serializer = CSVSerializer()"
   ]
  },
  {
   "cell_type": "code",
   "execution_count": 39,
   "metadata": {},
   "outputs": [
    {
     "name": "stderr",
     "output_type": "stream",
     "text": [
      "100%|██████████| 210/210 [00:04<00:00, 47.18it/s]"
     ]
    },
    {
     "name": "stdout",
     "output_type": "stream",
     "text": [
      "CPU times: user 1.44 s, sys: 27.9 ms, total: 1.47 s\n",
      "Wall time: 4.48 s\n"
     ]
    },
    {
     "name": "stderr",
     "output_type": "stream",
     "text": [
      "\n"
     ]
    }
   ],
   "source": [
    "%%time\n",
    "\n",
    "import numpy as np\n",
    "from tqdm import tqdm\n",
    "\n",
    "def predict(data, rows=500):\n",
    "    split_array = np.array_split(data, int(data.shape[0] / float(rows) + 1))\n",
    "    predictions = ''\n",
    "    for array in tqdm(split_array):\n",
    "        predictions = ','.join([predictions, xgb_predictor.predict(array).decode('utf-8')])\n",
    "    return np.fromstring(predictions[1:], sep=',')\n",
    "\n",
    "# Get predictions and store in df\n",
    "predictions = predict(val_df[train_cols[1:]].values)\n",
    "predictions = pd.DataFrame({'total_amount_predictions': predictions })"
   ]
  },
  {
   "cell_type": "code",
   "execution_count": 40,
   "metadata": {},
   "outputs": [
    {
     "data": {
      "text/html": [
       "<div>\n",
       "<style scoped>\n",
       "    .dataframe tbody tr th:only-of-type {\n",
       "        vertical-align: middle;\n",
       "    }\n",
       "\n",
       "    .dataframe tbody tr th {\n",
       "        vertical-align: top;\n",
       "    }\n",
       "\n",
       "    .dataframe thead th {\n",
       "        text-align: right;\n",
       "    }\n",
       "</style>\n",
       "<table border=\"1\" class=\"dataframe\">\n",
       "  <thead>\n",
       "    <tr style=\"text-align: right;\">\n",
       "      <th></th>\n",
       "      <th>total_amount</th>\n",
       "      <th>duration_minutes</th>\n",
       "      <th>trip_distance</th>\n",
       "      <th>hour_of_day</th>\n",
       "      <th>total_amount_predictions</th>\n",
       "      <th>error</th>\n",
       "    </tr>\n",
       "  </thead>\n",
       "  <tbody>\n",
       "    <tr>\n",
       "      <th>66480</th>\n",
       "      <td>153.90</td>\n",
       "      <td>4.816667</td>\n",
       "      <td>0.15</td>\n",
       "      <td>19</td>\n",
       "      <td>8.702184</td>\n",
       "      <td>145.197816</td>\n",
       "    </tr>\n",
       "    <tr>\n",
       "      <th>50009</th>\n",
       "      <td>150.00</td>\n",
       "      <td>0.150000</td>\n",
       "      <td>0.22</td>\n",
       "      <td>18</td>\n",
       "      <td>16.747419</td>\n",
       "      <td>133.252581</td>\n",
       "    </tr>\n",
       "    <tr>\n",
       "      <th>34759</th>\n",
       "      <td>5.71</td>\n",
       "      <td>98.416667</td>\n",
       "      <td>43.14</td>\n",
       "      <td>4</td>\n",
       "      <td>105.205437</td>\n",
       "      <td>99.495437</td>\n",
       "    </tr>\n",
       "    <tr>\n",
       "      <th>34665</th>\n",
       "      <td>110.50</td>\n",
       "      <td>0.300000</td>\n",
       "      <td>3.80</td>\n",
       "      <td>2</td>\n",
       "      <td>14.229259</td>\n",
       "      <td>96.270741</td>\n",
       "    </tr>\n",
       "    <tr>\n",
       "      <th>52665</th>\n",
       "      <td>118.30</td>\n",
       "      <td>24.100000</td>\n",
       "      <td>5.50</td>\n",
       "      <td>9</td>\n",
       "      <td>24.225283</td>\n",
       "      <td>94.074717</td>\n",
       "    </tr>\n",
       "    <tr>\n",
       "      <th>19784</th>\n",
       "      <td>150.00</td>\n",
       "      <td>49.600000</td>\n",
       "      <td>16.20</td>\n",
       "      <td>13</td>\n",
       "      <td>57.131344</td>\n",
       "      <td>92.868656</td>\n",
       "    </tr>\n",
       "    <tr>\n",
       "      <th>23319</th>\n",
       "      <td>92.30</td>\n",
       "      <td>1.750000</td>\n",
       "      <td>0.37</td>\n",
       "      <td>13</td>\n",
       "      <td>4.827808</td>\n",
       "      <td>87.472192</td>\n",
       "    </tr>\n",
       "    <tr>\n",
       "      <th>65068</th>\n",
       "      <td>102.30</td>\n",
       "      <td>17.700000</td>\n",
       "      <td>2.47</td>\n",
       "      <td>17</td>\n",
       "      <td>15.651504</td>\n",
       "      <td>86.648496</td>\n",
       "    </tr>\n",
       "    <tr>\n",
       "      <th>86666</th>\n",
       "      <td>90.00</td>\n",
       "      <td>0.633333</td>\n",
       "      <td>1.10</td>\n",
       "      <td>0</td>\n",
       "      <td>10.812490</td>\n",
       "      <td>79.187510</td>\n",
       "    </tr>\n",
       "    <tr>\n",
       "      <th>20528</th>\n",
       "      <td>99.80</td>\n",
       "      <td>24.133333</td>\n",
       "      <td>4.47</td>\n",
       "      <td>11</td>\n",
       "      <td>21.432755</td>\n",
       "      <td>78.367245</td>\n",
       "    </tr>\n",
       "  </tbody>\n",
       "</table>\n",
       "</div>"
      ],
      "text/plain": [
       "       total_amount  duration_minutes  trip_distance  hour_of_day  \\\n",
       "66480        153.90          4.816667           0.15           19   \n",
       "50009        150.00          0.150000           0.22           18   \n",
       "34759          5.71         98.416667          43.14            4   \n",
       "34665        110.50          0.300000           3.80            2   \n",
       "52665        118.30         24.100000           5.50            9   \n",
       "19784        150.00         49.600000          16.20           13   \n",
       "23319         92.30          1.750000           0.37           13   \n",
       "65068        102.30         17.700000           2.47           17   \n",
       "86666         90.00          0.633333           1.10            0   \n",
       "20528         99.80         24.133333           4.47           11   \n",
       "\n",
       "       total_amount_predictions       error  \n",
       "66480                  8.702184  145.197816  \n",
       "50009                 16.747419  133.252581  \n",
       "34759                105.205437   99.495437  \n",
       "34665                 14.229259   96.270741  \n",
       "52665                 24.225283   94.074717  \n",
       "19784                 57.131344   92.868656  \n",
       "23319                  4.827808   87.472192  \n",
       "65068                 15.651504   86.648496  \n",
       "86666                 10.812490   79.187510  \n",
       "20528                 21.432755   78.367245  "
      ]
     },
     "execution_count": 40,
     "metadata": {},
     "output_type": "execute_result"
    }
   ],
   "source": [
    "# Get the abs error between predictions\n",
    "pred_df = val_df.join(predictions)\n",
    "pred_df['error'] = abs(pred_df['total_amount']-pred_df['total_amount_predictions'])\n",
    "pred_df.sort_values('error', ascending=False).head(10)"
   ]
  },
  {
   "cell_type": "markdown",
   "metadata": {},
   "source": [
    "Print the `RMSE` validation metric"
   ]
  },
  {
   "cell_type": "code",
   "execution_count": 41,
   "metadata": {},
   "outputs": [
    {
     "data": {
      "text/plain": [
       "2.9228032074111385"
      ]
     },
     "execution_count": 41,
     "metadata": {},
     "output_type": "execute_result"
    }
   ],
   "source": [
    "from math import sqrt\n",
    "from sklearn.metrics import mean_squared_error\n",
    "\n",
    "def rmse(pred_df):\n",
    "    return sqrt(mean_squared_error(pred_df['total_amount'], pred_df['total_amount_predictions']))\n",
    "\n",
    "rmse(pred_df)"
   ]
  },
  {
   "cell_type": "markdown",
   "metadata": {},
   "source": [
    "Visualse the outlines vs predicted values"
   ]
  },
  {
   "cell_type": "code",
   "execution_count": 42,
   "metadata": {},
   "outputs": [
    {
     "data": {
      "text/plain": [
       "<matplotlib.axes._subplots.AxesSubplot at 0x7fea454f5668>"
      ]
     },
     "execution_count": 42,
     "metadata": {},
     "output_type": "execute_result"
    },
    {
     "data": {
      "image/png": "[encoded data removed]",
      "text/plain": [
       "<Figure size 960x480 with 2 Axes>"
      ]
     },
     "metadata": {},
     "output_type": "display_data"
    }
   ],
   "source": [
    "pred_df.tail(1000).plot.scatter(x='total_amount_predictions', y='total_amount', c='error', title='actual amount (y) vs predicted (x)')"
   ]
  },
  {
   "cell_type": "markdown",
   "metadata": {},
   "source": [
    "## Create Athena UDF \n",
    "\n",
    "Create a [User Defined Function](https://aws.amazon.com/blogs/big-data/prepare-data-for-model-training-and-invoke-machine-learning-models-with-amazon-athena/) for the deployed endpoint so you can query directly in Athena."
   ]
  },
  {
   "cell_type": "code",
   "execution_count": 43,
   "metadata": {},
   "outputs": [
    {
     "name": "stdout",
     "output_type": "stream",
     "text": [
      "endpoint: xgboost-2020-10-05-07-26-14-399\n"
     ]
    }
   ],
   "source": [
    "endpoint_name = xgb_predictor.endpoint_name\n",
    "print('endpoint: {}'.format(endpoint_name))"
   ]
  },
  {
   "cell_type": "markdown",
   "metadata": {},
   "source": [
    "`NOTE`: Athena ML is [in preview](https://aws.amazon.com/athena/faqs/#Preview_features).   To enable this Preview feature you need to create an Athena workgroup named `AmazonAthenaPreviewFunctionality` and run any queries attempting to federate to this connector, use a UDF, or SageMaker inference from that workgroup."
   ]
  },
  {
   "cell_type": "code",
   "execution_count": 44,
   "metadata": {},
   "outputs": [
    {
     "name": "stdout",
     "output_type": "stream",
     "text": [
      "\r\n",
      "An error occurred (InvalidRequestException) when calling the CreateWorkGroup operation: WorkGroup AmazonAthenaPreviewFunctionality is already created\r\n"
     ]
    }
   ],
   "source": [
    "workgroup_name = 'AmazonAthenaPreviewFunctionality'\n",
    "\n",
    "!aws athena create-work-group --name $workgroup_name --region $region"
   ]
  },
  {
   "cell_type": "markdown",
   "metadata": {},
   "source": [
    "Using presto [datetime](https://prestodb.io/docs/0.172/functions/datetime.html) functions with inline query, rank by absolute error."
   ]
  },
  {
   "cell_type": "code",
   "execution_count": 45,
   "metadata": {},
   "outputs": [
    {
     "name": "stdout",
     "output_type": "stream",
     "text": [
      "Querying... \n",
      "USING FUNCTION predict_total(\n",
      "  duration_minutes DOUBLE, \n",
      "  trip_distance DOUBLE, \n",
      "  hour_of_day DOUBLE) returns DOUBLE type SAGEMAKER_INVOKE_ENDPOINT\n",
      "WITH (sagemaker_endpoint='xgboost-2020-10-05-07-26-14-399')\n",
      "\n",
      "SELECT \n",
      "    *, ABS(predicted_total_amount-total_amount) as error\n",
      "FROM ( \n",
      "    SELECT\n",
      "        *,\n",
      "        predict_total(duration_minutes, trip_distance, hour_of_day) as predicted_total_amount\n",
      "    FROM \n",
      "    (\n",
      "        SELECT \n",
      "            total_amount,\n",
      "            CAST(date_diff('minute', \n",
      "                CAST(lpep_pickup_datetime as timestamp), \n",
      "                CAST(lpep_dropoff_datetime as timestamp)) as DOUBLE) as duration_minutes,\n",
      "            CAST(trip_distance as DOUBLE) as trip_distance,\n",
      "            CAST(hour(CAST(lpep_pickup_datetime as timestamp)) as double) as hour_of_day\n",
      "        FROM nyc_taxi.taxi_csv\n",
      "        WHERE DAY(CAST(lpep_pickup_datetime as timestamp)) = 1 -- Filter by day\n",
      "    )\n",
      ")\n",
      "ORDER BY error DESC\n",
      "LIMIT 10;\n",
      "\n",
      "Status: SUCCEEDED, Run time: 3.63s, Data scanned: 91.34MB, Records: 10\n"
     ]
    },
    {
     "data": {
      "text/html": [
       "<div>\n",
       "<style scoped>\n",
       "    .dataframe tbody tr th:only-of-type {\n",
       "        vertical-align: middle;\n",
       "    }\n",
       "\n",
       "    .dataframe tbody tr th {\n",
       "        vertical-align: top;\n",
       "    }\n",
       "\n",
       "    .dataframe thead th {\n",
       "        text-align: right;\n",
       "    }\n",
       "</style>\n",
       "<table border=\"1\" class=\"dataframe\">\n",
       "  <thead>\n",
       "    <tr style=\"text-align: right;\">\n",
       "      <th></th>\n",
       "      <th>total_amount</th>\n",
       "      <th>duration_minutes</th>\n",
       "      <th>trip_distance</th>\n",
       "      <th>hour_of_day</th>\n",
       "      <th>predicted_total_amount</th>\n",
       "      <th>error</th>\n",
       "    </tr>\n",
       "  </thead>\n",
       "  <tbody>\n",
       "    <tr>\n",
       "      <th>0</th>\n",
       "      <td>240.00</td>\n",
       "      <td>0.0</td>\n",
       "      <td>0.00</td>\n",
       "      <td>4.0</td>\n",
       "      <td>17.986885</td>\n",
       "      <td>222.013115</td>\n",
       "    </tr>\n",
       "    <tr>\n",
       "      <th>1</th>\n",
       "      <td>276.64</td>\n",
       "      <td>49.0</td>\n",
       "      <td>48.20</td>\n",
       "      <td>8.0</td>\n",
       "      <td>97.970482</td>\n",
       "      <td>178.669518</td>\n",
       "    </tr>\n",
       "    <tr>\n",
       "      <th>2</th>\n",
       "      <td>140.80</td>\n",
       "      <td>1.0</td>\n",
       "      <td>0.20</td>\n",
       "      <td>10.0</td>\n",
       "      <td>4.547981</td>\n",
       "      <td>136.252019</td>\n",
       "    </tr>\n",
       "    <tr>\n",
       "      <th>3</th>\n",
       "      <td>203.16</td>\n",
       "      <td>43.0</td>\n",
       "      <td>38.59</td>\n",
       "      <td>11.0</td>\n",
       "      <td>96.603233</td>\n",
       "      <td>106.556767</td>\n",
       "    </tr>\n",
       "    <tr>\n",
       "      <th>4</th>\n",
       "      <td>7.00</td>\n",
       "      <td>193.0</td>\n",
       "      <td>52.96</td>\n",
       "      <td>22.0</td>\n",
       "      <td>105.352936</td>\n",
       "      <td>98.352936</td>\n",
       "    </tr>\n",
       "    <tr>\n",
       "      <th>5</th>\n",
       "      <td>-68.31</td>\n",
       "      <td>0.0</td>\n",
       "      <td>0.01</td>\n",
       "      <td>17.0</td>\n",
       "      <td>24.412111</td>\n",
       "      <td>92.722111</td>\n",
       "    </tr>\n",
       "    <tr>\n",
       "      <th>6</th>\n",
       "      <td>141.30</td>\n",
       "      <td>46.0</td>\n",
       "      <td>12.14</td>\n",
       "      <td>16.0</td>\n",
       "      <td>49.993526</td>\n",
       "      <td>91.306474</td>\n",
       "    </tr>\n",
       "    <tr>\n",
       "      <th>7</th>\n",
       "      <td>10.00</td>\n",
       "      <td>52.0</td>\n",
       "      <td>26.49</td>\n",
       "      <td>7.0</td>\n",
       "      <td>97.263237</td>\n",
       "      <td>87.263237</td>\n",
       "    </tr>\n",
       "    <tr>\n",
       "      <th>8</th>\n",
       "      <td>104.00</td>\n",
       "      <td>0.0</td>\n",
       "      <td>0.00</td>\n",
       "      <td>6.0</td>\n",
       "      <td>17.737371</td>\n",
       "      <td>86.262629</td>\n",
       "    </tr>\n",
       "    <tr>\n",
       "      <th>9</th>\n",
       "      <td>-60.00</td>\n",
       "      <td>0.0</td>\n",
       "      <td>0.00</td>\n",
       "      <td>19.0</td>\n",
       "      <td>22.818607</td>\n",
       "      <td>82.818607</td>\n",
       "    </tr>\n",
       "  </tbody>\n",
       "</table>\n",
       "</div>"
      ],
      "text/plain": [
       "   total_amount  duration_minutes  trip_distance  hour_of_day  \\\n",
       "0        240.00               0.0           0.00          4.0   \n",
       "1        276.64              49.0          48.20          8.0   \n",
       "2        140.80               1.0           0.20         10.0   \n",
       "3        203.16              43.0          38.59         11.0   \n",
       "4          7.00             193.0          52.96         22.0   \n",
       "5        -68.31               0.0           0.01         17.0   \n",
       "6        141.30              46.0          12.14         16.0   \n",
       "7         10.00              52.0          26.49          7.0   \n",
       "8        104.00               0.0           0.00          6.0   \n",
       "9        -60.00               0.0           0.00         19.0   \n",
       "\n",
       "   predicted_total_amount       error  \n",
       "0               17.986885  222.013115  \n",
       "1               97.970482  178.669518  \n",
       "2                4.547981  136.252019  \n",
       "3               96.603233  106.556767  \n",
       "4              105.352936   98.352936  \n",
       "5               24.412111   92.722111  \n",
       "6               49.993526   91.306474  \n",
       "7               97.263237   87.263237  \n",
       "8               17.737371   86.262629  \n",
       "9               22.818607   82.818607  "
      ]
     },
     "execution_count": 45,
     "metadata": {},
     "output_type": "execute_result"
    }
   ],
   "source": [
    "query_sql  = '''\n",
    "USING FUNCTION predict_total(\n",
    "  duration_minutes DOUBLE, \n",
    "  trip_distance DOUBLE, \n",
    "  hour_of_day DOUBLE) returns DOUBLE type SAGEMAKER_INVOKE_ENDPOINT\n",
    "WITH (sagemaker_endpoint='{}')\n",
    "\n",
    "SELECT \n",
    "    *, ABS(predicted_total_amount-total_amount) as error\n",
    "FROM ( \n",
    "    SELECT\n",
    "        *,\n",
    "        predict_total(duration_minutes, trip_distance, hour_of_day) as predicted_total_amount\n",
    "    FROM \n",
    "    (\n",
    "        SELECT \n",
    "            total_amount,\n",
    "            CAST(date_diff('minute', \n",
    "                CAST(lpep_pickup_datetime as timestamp), \n",
    "                CAST(lpep_dropoff_datetime as timestamp)) as DOUBLE) as duration_minutes,\n",
    "            CAST(trip_distance as DOUBLE) as trip_distance,\n",
    "            CAST(hour(CAST(lpep_pickup_datetime as timestamp)) as double) as hour_of_day\n",
    "        FROM {}\n",
    "        WHERE DAY(CAST(lpep_pickup_datetime as timestamp)) = {} -- Filter by day\n",
    "    )\n",
    ")\n",
    "ORDER BY error DESC\n",
    "LIMIT {};\n",
    "'''.format(endpoint_name, table_name, 1, 10)\n",
    "print('Querying...', query_sql)\n",
    "\n",
    "query_df = cursor.execute(query_sql, work_group=workgroup_name).as_pandas()\n",
    "print('Status: {}, Run time: {:.2f}s, Data scanned: {:.2f}MB, Records: {:,}'.format(cursor.state, \n",
    "    cursor.execution_time_in_millis/1000.0, cursor.data_scanned_in_bytes/1024.0/1024.0, query_df.shape[0]))\n",
    "\n",
    "query_df"
   ]
  },
  {
   "cell_type": "code",
   "execution_count": null,
   "metadata": {},
   "outputs": [],
   "source": []
  }
 ],
 "metadata": {
  "kernelspec": {
   "display_name": "conda_python3",
   "language": "python",
   "name": "conda_python3"
  },
  "language_info": {
   "codemirror_mode": {
    "name": "ipython",
    "version": 3
   },
   "file_extension": ".py",
   "mimetype": "text/x-python",
   "name": "python",
   "nbconvert_exporter": "python",
   "pygments_lexer": "ipython3",
   "version": "3.6.10"
  }
 },
 "nbformat": 4,
 "nbformat_minor": 4
}
